{
 "cells": [
  {
   "cell_type": "code",
   "execution_count": 14,
   "id": "separate-bonus",
   "metadata": {},
   "outputs": [],
   "source": [
    "import xml\n",
    "import json\n",
    "import os\n",
    "import unittest\n",
    "import httplib2"
   ]
  },
  {
   "cell_type": "code",
   "execution_count": 15,
   "id": "scientific-mortgage",
   "metadata": {},
   "outputs": [],
   "source": [
    "from crpapi import CRP\n",
    "API_KEY = '94fa7641a896614ab429750e81691137'"
   ]
  },
  {
   "cell_type": "code",
   "execution_count": null,
   "id": "banned-quest",
   "metadata": {},
   "outputs": [],
   "source": []
  }
 ],
 "metadata": {
  "kernelspec": {
   "display_name": "Python 3",
   "language": "python",
   "name": "python3"
  },
  "language_info": {
   "codemirror_mode": {
    "name": "ipython",
    "version": 3
   },
   "file_extension": ".py",
   "mimetype": "text/x-python",
   "name": "python",
   "nbconvert_exporter": "python",
   "pygments_lexer": "ipython3",
   "version": "3.9.2"
  }
 },
 "nbformat": 4,
 "nbformat_minor": 5
}
