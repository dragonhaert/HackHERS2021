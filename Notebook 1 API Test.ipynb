{
 "cells": [
  {
   "cell_type": "code",
   "execution_count": 19,
   "id": "separate-bonus",
   "metadata": {},
   "outputs": [],
   "source": [
    "import xml\n",
    "import json\n",
    "import os\n",
    "import unittest\n",
    "import httplib2"
   ]
  },
  {
   "cell_type": "code",
   "execution_count": 20,
   "id": "scientific-mortgage",
   "metadata": {},
   "outputs": [],
   "source": [
    "from crpapi import CRP\n",
    "API_KEY = '94fa7641a896614ab429750e81691137'"
   ]
  },
  {
   "cell_type": "code",
   "execution_count": 21,
   "id": "banned-quest",
   "metadata": {},
   "outputs": [],
   "source": [
    "def close_connections(http):\n",
    "    for k, conn in http.connections.items():\n",
    "        conn.close()"
   ]
  },
  {
   "cell_type": "code",
   "execution_count": 22,
   "id": "celtic-arabic",
   "metadata": {},
   "outputs": [],
   "source": [
    "class APITest(unittest.TestCase):\n",
    "    \"\"\"\n",
    "    Handles comparison of the test response to the response from a direct\n",
    "    call to the OpenSecrets.org API.\n",
    "    \"\"\"\n",
    "\n",
    "    def setUp(self):\n",
    "        self.crp = CRP(API_KEY)\n",
    "        self.http = httplib2.Http()\n",
    "\n",
    "    def tearDown(self):\n",
    "        close_connections(self.http)\n",
    "        close_connections(self.crp.http)\n",
    "\n",
    "    def check_response(self, result, url, parse=''):\n",
    "        headers = {'User-Agent' : 'Mozilla/5.0'}\n",
    "        response = self.http.request(url, headers=headers)[1]\n",
    "        response = json.loads(response)\n",
    "\n",
    "        if callable(parse):\n",
    "            response = parse(response)\n",
    "\n",
    "        self.assertEqual(result, response)\n"
   ]
  },
  {
   "cell_type": "code",
   "execution_count": null,
   "id": "assured-kazakhstan",
   "metadata": {},
   "outputs": [],
   "source": []
  }
 ],
 "metadata": {
  "kernelspec": {
   "display_name": "Python 3",
   "language": "python",
   "name": "python3"
  },
  "language_info": {
   "codemirror_mode": {
    "name": "ipython",
    "version": 3
   },
   "file_extension": ".py",
   "mimetype": "text/x-python",
   "name": "python",
   "nbconvert_exporter": "python",
   "pygments_lexer": "ipython3",
   "version": "3.9.2"
  }
 },
 "nbformat": 4,
 "nbformat_minor": 5
}
